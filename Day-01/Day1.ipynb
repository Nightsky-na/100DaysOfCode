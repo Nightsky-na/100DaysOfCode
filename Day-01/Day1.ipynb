{
 "metadata": {
  "language_info": {
   "codemirror_mode": {
    "name": "ipython",
    "version": 3
   },
   "file_extension": ".py",
   "mimetype": "text/x-python",
   "name": "python",
   "nbconvert_exporter": "python",
   "pygments_lexer": "ipython3",
   "version": "3.8.5"
  },
  "orig_nbformat": 2,
  "kernelspec": {
   "name": "python3",
   "display_name": "Python 3.8.5 64-bit ('base': conda)",
   "metadata": {
    "interpreter": {
     "hash": "f0fcf84890dbfc822b57a0d17ad881d7ad0eb9009008e85ef284d9422c943d3a"
    }
   }
  }
 },
 "nbformat": 4,
 "nbformat_minor": 2,
 "cells": [
  {
   "cell_type": "code",
   "execution_count": 9,
   "metadata": {},
   "outputs": [
    {
     "output_type": "stream",
     "name": "stdout",
     "text": [
      "Hello everyone this is my code in day01\n\n"
     ]
    }
   ],
   "source": [
    "f = open(\"Hello.txt\",\"r\")\n",
    "print(f.read())\n",
    "print(f.read(5))"
   ]
  }
 ]
}